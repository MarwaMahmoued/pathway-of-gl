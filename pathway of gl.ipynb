{
 "cells": [
  {
   "cell_type": "code",
   "execution_count": 1,
   "id": "1d59262b",
   "metadata": {},
   "outputs": [],
   "source": [
    "import cobra"
   ]
  },
  {
   "cell_type": "code",
   "execution_count": 2,
   "id": "66bf452e",
   "metadata": {},
   "outputs": [],
   "source": [
    "from cobra import Model,Reaction,Metabolite"
   ]
  },
  {
   "cell_type": "code",
   "execution_count": 3,
   "id": "47dbce71",
   "metadata": {},
   "outputs": [],
   "source": [
    "model=Model(\"pathway\")"
   ]
  },
  {
   "cell_type": "code",
   "execution_count": 4,
   "id": "bf3c47b4",
   "metadata": {},
   "outputs": [],
   "source": [
    "HK=Reaction('HK')\n",
    "HK.name='Hexokinase'\n",
    "HK.lower_bound=0\n",
    "HK.upper_bound=1000"
   ]
  },
  {
   "cell_type": "code",
   "execution_count": 5,
   "id": "887b9850",
   "metadata": {},
   "outputs": [],
   "source": [
    "PGI=Reaction('PGI')\n",
    "PGI.name='Glucose 6-phosphate isomerase'\n",
    "PGI.lower_bound=-1000\n",
    "PGI.upper_bound=1000"
   ]
  },
  {
   "cell_type": "code",
   "execution_count": 6,
   "id": "9ad2eb6e",
   "metadata": {},
   "outputs": [],
   "source": [
    "PFK=Reaction('PFK')\n",
    "PFK.name='Phosphofructokinase'\n",
    "PFK.lower_bound=0\n",
    "PFK.upper_bound=1000"
   ]
  },
  {
   "cell_type": "code",
   "execution_count": 7,
   "id": "48c511cd",
   "metadata": {},
   "outputs": [],
   "source": [
    "TPI=Reaction('TPI')\n",
    "TPI.name='Triose-phosphate isomerase'\n",
    "TPI.lower_bound=-1000\n",
    "TPI.upper_bound=1000"
   ]
  },
  {
   "cell_type": "code",
   "execution_count": 8,
   "id": "37e7d0b9",
   "metadata": {},
   "outputs": [],
   "source": [
    "ALD=Reaction('ALD')\n",
    "ALD.name='Fructose 1,6-diphosphate aldolase'\n",
    "ALD.lower_bound=-1000\n",
    "ALD.upper_bound=1000"
   ]
  },
  {
   "cell_type": "code",
   "execution_count": 9,
   "id": "af872679",
   "metadata": {},
   "outputs": [],
   "source": [
    "GAPDH=Reaction('GAPDH')\n",
    "GAPDH.name='Glyceraldehyde 3-phosphate dehydrogenase'\n",
    "GAPDH.lower_bound=-1000\n",
    "GAPDH.upper_bound=1000"
   ]
  },
  {
   "cell_type": "code",
   "execution_count": 10,
   "id": "1c17a9b8",
   "metadata": {},
   "outputs": [],
   "source": [
    "PGK=Reaction('PGK')\n",
    "PGK.name='Phosphoglycerate kinase'\n",
    "PGK.lower_bound=-1000\n",
    "PGK.upper_bound=1000"
   ]
  },
  {
   "cell_type": "code",
   "execution_count": 11,
   "id": "f00ec899",
   "metadata": {},
   "outputs": [],
   "source": [
    "PGLM=Reaction('PGLM')\n",
    "PGLM.name='Phosphoglycerate mutase'\n",
    "PGLM.lower_bound=-1000\n",
    "PGLM.upper_bound=1000"
   ]
  },
  {
   "cell_type": "code",
   "execution_count": 12,
   "id": "649185cd",
   "metadata": {},
   "outputs": [],
   "source": [
    "ENO=Reaction('ENO')\n",
    "ENO.name='Enolase'\n",
    "ENO.lower_bound=-1000\n",
    "ENO.upper_bound=1000"
   ]
  },
  {
   "cell_type": "code",
   "execution_count": 13,
   "id": "e6390dde",
   "metadata": {},
   "outputs": [],
   "source": [
    "PK=Reaction('PK')\n",
    "PK.name='Pyruvate kinase'\n",
    "PK.lower_bound=0\n",
    "PK.upper_bound=1000"
   ]
  },
  {
   "cell_type": "code",
   "execution_count": 14,
   "id": "59447713",
   "metadata": {},
   "outputs": [],
   "source": [
    "LDH=Reaction('LDH')\n",
    "LDH.name='Lactate dehydrogenase'\n",
    "LDH.lower_bound=0\n",
    "LDH.upper_bound=0"
   ]
  },
  {
   "cell_type": "code",
   "execution_count": 15,
   "id": "c8ccded2",
   "metadata": {},
   "outputs": [],
   "source": [
    "AMP=Reaction('AMP')\n",
    "AMP.name='AMP export'\n",
    "AMP.lower_bound=0\n",
    "AMP.upper_bound=1000"
   ]
  },
  {
   "cell_type": "code",
   "execution_count": 16,
   "id": "ccd5c0de",
   "metadata": {},
   "outputs": [],
   "source": [
    "APK=Reaction('APK')\n",
    "APK.name='Adenylate kinase'\n",
    "APK.lower_bound=-1000\n",
    "APK.upper_bound=1000"
   ]
  },
  {
   "cell_type": "code",
   "execution_count": 17,
   "id": "92ee0142",
   "metadata": {},
   "outputs": [],
   "source": [
    "PYRin=Reaction('PYRin')\n",
    "PYRin.name='Pyruvate exchange'\n",
    "PYRin.lower_bound=-1000\n",
    "PYRin.upper_bound=1000"
   ]
  },
  {
   "cell_type": "code",
   "execution_count": 18,
   "id": "90e69e29",
   "metadata": {},
   "outputs": [],
   "source": [
    "LACin=Reaction('LACin')\n",
    "LACin.name='Lactate exchange'\n",
    "LACin.lower_bound=0\n",
    "LACin.upper_bound=0"
   ]
  },
  {
   "cell_type": "code",
   "execution_count": 19,
   "id": "dee8c96e",
   "metadata": {},
   "outputs": [],
   "source": [
    "ATPin=Reaction('ATPin')\n",
    "ATPin.name='ATP hydrolysis'\n",
    "ATPin.lower_bound=0\n",
    "ATPin.upper_bound=1000"
   ]
  },
  {
   "cell_type": "code",
   "execution_count": 20,
   "id": "7fc75e31",
   "metadata": {},
   "outputs": [],
   "source": [
    "NADHin=Reaction('NADHin')\n",
    "NADHin.name='NADH oxidation'\n",
    "NADHin.lower_bound=0\n",
    "NADHin.upper_bound=1000"
   ]
  },
  {
   "cell_type": "code",
   "execution_count": 21,
   "id": "ffb3b836",
   "metadata": {},
   "outputs": [],
   "source": [
    "GLUin=Reaction('GLUin')\n",
    "GLUin.name='Glucose import'\n",
    "GLUin.lower_bound=1\n",
    "GLUin.upper_bound=1"
   ]
  },
  {
   "cell_type": "code",
   "execution_count": 22,
   "id": "2a51282e",
   "metadata": {},
   "outputs": [],
   "source": [
    "AMPin=Reaction('AMPin')\n",
    "AMPin.name='AMP import'\n",
    "AMPin.lower_bound=1\n",
    "AMPin.upper_bound=1"
   ]
  },
  {
   "cell_type": "code",
   "execution_count": 23,
   "id": "6ac5fdad",
   "metadata": {},
   "outputs": [],
   "source": [
    "Hin=Reaction('Hin')\n",
    "Hin.name='Proton exchange'\n",
    "Hin.lower_bound=-1000\n",
    "Hin.upper_bound=1000"
   ]
  },
  {
   "cell_type": "code",
   "execution_count": 24,
   "id": "4968a6b2",
   "metadata": {},
   "outputs": [],
   "source": [
    "H2Oin=Reaction('H2Oin')\n",
    "H2Oin.name='Water exchange'\n",
    "H2Oin.lower_bound=-1000\n",
    "H2Oin.upper_bound=1000"
   ]
  },
  {
   "cell_type": "code",
   "execution_count": 25,
   "id": "f5eab7cd",
   "metadata": {},
   "outputs": [],
   "source": [
    "AMP_R=Reaction('AMP_R')\n",
    "AMP_R.name='AMP export'\n",
    "AMP_R.lower_bound=0\n",
    "AMP_R.upper_bound=1000\n"
   ]
  },
  {
   "cell_type": "code",
   "execution_count": 26,
   "id": "3014a75a",
   "metadata": {},
   "outputs": [],
   "source": [
    "Gluc=Metabolite('Gluc',formula='C6H12O6',name='Glucose',compartment='c')\n"
   ]
  },
  {
   "cell_type": "code",
   "execution_count": 27,
   "id": "4bb62aed",
   "metadata": {},
   "outputs": [],
   "source": [
    "ATP=Metabolite('ATP',formula='C10H12N5O13P3',name='Adenosine tri-phosphate',compartment='c')"
   ]
  },
  {
   "cell_type": "code",
   "execution_count": 28,
   "id": "336cd932",
   "metadata": {},
   "outputs": [],
   "source": [
    "G6P = Metabolite('G6P',formula='C6H13O9P',name='Glucose 6-phosphate',compartment='c')"
   ]
  },
  {
   "cell_type": "code",
   "execution_count": 29,
   "id": "b3deb0a6",
   "metadata": {},
   "outputs": [],
   "source": [
    "ADP = Metabolite('ADP',formula='C10H15N5O10P2',name='Adenosine di-phosphate',compartment='c')"
   ]
  },
  {
   "cell_type": "code",
   "execution_count": 30,
   "id": "aa872ebe",
   "metadata": {},
   "outputs": [],
   "source": [
    "H = Metabolite('H',formula='H',name='Proton',compartment='c')"
   ]
  },
  {
   "cell_type": "code",
   "execution_count": 31,
   "id": "770293af",
   "metadata": {},
   "outputs": [],
   "source": [
    "F6P = Metabolite('F6P',formula='C6H13O9P',name='Fructose 6-phosphate',compartment='c')"
   ]
  },
  {
   "cell_type": "code",
   "execution_count": 32,
   "id": "f949be44",
   "metadata": {},
   "outputs": [],
   "source": [
    "\n",
    "FDP = Metabolite('FDP',formula='C6H14O12P2',name='Fructose 1,6-diphosphate',compartment='c')"
   ]
  },
  {
   "cell_type": "code",
   "execution_count": 33,
   "id": "411a66af",
   "metadata": {},
   "outputs": [],
   "source": [
    "DHAP = Metabolite('DHAP',formula='C3H7O6P',name='Dihydroxyacetone phosphate',compartment='c')"
   ]
  },
  {
   "cell_type": "code",
   "execution_count": 34,
   "id": "46751e16",
   "metadata": {},
   "outputs": [],
   "source": [
    "\n",
    "GAP= Metabolite('GAP',formula='C3H7O6P',name='Glyceraldehyde 3-phosphate',compartment='c')"
   ]
  },
  {
   "cell_type": "code",
   "execution_count": 35,
   "id": "2f98e165",
   "metadata": {},
   "outputs": [],
   "source": [
    "NAD= Metabolite('NAD',formula='C21H27N7O14P2',name='Nicotinamide adenine dinucleotide (oxidized)',compartment='c')"
   ]
  },
  {
   "cell_type": "code",
   "execution_count": 36,
   "id": "ed044f53",
   "metadata": {},
   "outputs": [],
   "source": [
    "Pi= Metabolite('Pi',formula='',name='Inorganic phosphate',compartment='c')"
   ]
  },
  {
   "cell_type": "code",
   "execution_count": 37,
   "id": "9e037fbd",
   "metadata": {},
   "outputs": [],
   "source": [
    "DPG13= Metabolite(\"DPG13\",formula='C3H6O10P2-2',name='1,3-Diphosphoglycerate',compartment=\"c\")"
   ]
  },
  {
   "cell_type": "code",
   "execution_count": 38,
   "id": "b8020b8e",
   "metadata": {},
   "outputs": [],
   "source": [
    "NADH= Metabolite('NADH',formula='C21H27N7O14P2',name='Glyceraldehyde 3-phosphate dehydrogenase',compartment='c')\n"
   ]
  },
  {
   "cell_type": "code",
   "execution_count": 39,
   "id": "e35e7e0e",
   "metadata": {},
   "outputs": [],
   "source": [
    "PG3= Metabolite('PG3',formula='C4H12N3O',name='3-Phosphoglycerate',compartment='c')"
   ]
  },
  {
   "cell_type": "code",
   "execution_count": 40,
   "id": "446af5ba",
   "metadata": {},
   "outputs": [],
   "source": [
    "PG2= Metabolite('PG2',formula=\"\",name='2-Phosphoglycerate',compartment='c')"
   ]
  },
  {
   "cell_type": "code",
   "execution_count": 41,
   "id": "67f1b140",
   "metadata": {},
   "outputs": [],
   "source": [
    "PEP= Metabolite('PEP',formula='C3H5O6P',name='Phosphoenolpyruvate',compartment='c')"
   ]
  },
  {
   "cell_type": "code",
   "execution_count": 42,
   "id": "9eb067ce",
   "metadata": {},
   "outputs": [],
   "source": [
    "H2O= Metabolite('H2O',formula='H₂O',name='Water',compartment='c')"
   ]
  },
  {
   "cell_type": "code",
   "execution_count": 43,
   "id": "fee5710e",
   "metadata": {},
   "outputs": [],
   "source": [
    "PYR= Metabolite('PYR',formula=\"\",name='Pyruvate',compartment='c')"
   ]
  },
  {
   "cell_type": "code",
   "execution_count": 44,
   "id": "bdc53d18",
   "metadata": {},
   "outputs": [],
   "source": [
    "LAC= Metabolite('LAC',formula=\"\",name='Lactate',compartment='c')"
   ]
  },
  {
   "cell_type": "code",
   "execution_count": 45,
   "id": "b6a282cf",
   "metadata": {},
   "outputs": [],
   "source": [
    "AMP= Metabolite('AMP',formula=\"\",name='Adenosine mono-phosphate',compartment='c')"
   ]
  },
  {
   "cell_type": "code",
   "execution_count": 46,
   "id": "4f49081b",
   "metadata": {},
   "outputs": [],
   "source": [
    "GLUin.add_metabolites({Gluc:1 })"
   ]
  },
  {
   "cell_type": "code",
   "execution_count": 47,
   "id": "58593597",
   "metadata": {},
   "outputs": [],
   "source": [
    "HK.add_metabolites({Gluc:-1,ATP:-1,G6P:1 , ADP:1,H:1})\n"
   ]
  },
  {
   "cell_type": "code",
   "execution_count": 48,
   "id": "75a7bb27",
   "metadata": {},
   "outputs": [],
   "source": [
    "PGI.add_metabolites({G6P:-1 ,F6P:1})"
   ]
  },
  {
   "cell_type": "code",
   "execution_count": 49,
   "id": "a213bdbf",
   "metadata": {},
   "outputs": [],
   "source": [
    "PFK.add_metabolites({F6P:-1,ATP:-1,FDP:1,ADP:1,H:1})"
   ]
  },
  {
   "cell_type": "code",
   "execution_count": 50,
   "id": "2d89378f",
   "metadata": {},
   "outputs": [],
   "source": [
    "TPI.add_metabolites({DHAP:-1,GAP:1})"
   ]
  },
  {
   "cell_type": "code",
   "execution_count": 51,
   "id": "ac387def",
   "metadata": {},
   "outputs": [],
   "source": [
    "ALD.add_metabolites({FDP:-1,DHAP:1,GAP:1})"
   ]
  },
  {
   "cell_type": "code",
   "execution_count": 52,
   "id": "42c1acec",
   "metadata": {},
   "outputs": [],
   "source": [
    "GAPDH.add_metabolites({GAP:-1,NAD:-1,Pi:-1,DPG13:1 , NADH:1 , H:1})"
   ]
  },
  {
   "cell_type": "code",
   "execution_count": 53,
   "id": "c12a8376",
   "metadata": {},
   "outputs": [],
   "source": [
    "PGK.add_metabolites({DPG13:-1 ,ADP:-1 , PG3:1,ATP:1})"
   ]
  },
  {
   "cell_type": "code",
   "execution_count": 54,
   "id": "cd75c449",
   "metadata": {},
   "outputs": [],
   "source": [
    "PGLM.add_metabolites({ PG3:-1,PG2:1})"
   ]
  },
  {
   "cell_type": "code",
   "execution_count": 55,
   "id": "bdb7403d",
   "metadata": {},
   "outputs": [],
   "source": [
    "ENO.add_metabolites({PG2:-1,PEP:1 ,H2O:1})"
   ]
  },
  {
   "cell_type": "code",
   "execution_count": 56,
   "id": "c093f4da",
   "metadata": {},
   "outputs": [],
   "source": [
    "PK.add_metabolites({PEP:-1 ,ADP:-1 , H:-1 , PYR:1 , ATP:1})"
   ]
  },
  {
   "cell_type": "code",
   "execution_count": 57,
   "id": "746ef388",
   "metadata": {},
   "outputs": [],
   "source": [
    "LDH.add_metabolites({PYR:-1,NADH:-1 ,H:-1,LAC:1 , NAD:1})"
   ]
  },
  {
   "cell_type": "code",
   "execution_count": 58,
   "id": "18be2a07",
   "metadata": {
    "scrolled": true
   },
   "outputs": [],
   "source": [
    "AMP_R.add_metabolites({AMP:-1})"
   ]
  },
  {
   "cell_type": "code",
   "execution_count": 59,
   "id": "fd2a2a04",
   "metadata": {
    "scrolled": true
   },
   "outputs": [],
   "source": [
    "APK.add_metabolites({ADP:-2,AMP:1,ATP:1})"
   ]
  },
  {
   "cell_type": "code",
   "execution_count": 60,
   "id": "ccd752a9",
   "metadata": {},
   "outputs": [],
   "source": [
    "PYRin.add_metabolites({PYR:-1})"
   ]
  },
  {
   "cell_type": "code",
   "execution_count": 61,
   "id": "63e7ecaa",
   "metadata": {},
   "outputs": [],
   "source": [
    "LACin.add_metabolites({LAC:-1})"
   ]
  },
  {
   "cell_type": "code",
   "execution_count": 62,
   "id": "1524d5bb",
   "metadata": {},
   "outputs": [],
   "source": [
    "ATPin.add_metabolites({ATP:-1, H2O:-1 , ADP:1 , Pi:1 , H: 1})"
   ]
  },
  {
   "cell_type": "code",
   "execution_count": 63,
   "id": "57cb63bb",
   "metadata": {},
   "outputs": [],
   "source": [
    "NADHin.add_metabolites({NADH:-1, NAD:1 , H:1 })"
   ]
  },
  {
   "cell_type": "code",
   "execution_count": 64,
   "id": "ee310c04",
   "metadata": {},
   "outputs": [],
   "source": [
    "\n",
    "AMPin.add_metabolites({AMP:1 })"
   ]
  },
  {
   "cell_type": "code",
   "execution_count": 65,
   "id": "e371dba1",
   "metadata": {},
   "outputs": [],
   "source": [
    "Hin.add_metabolites({H:-1 })"
   ]
  },
  {
   "cell_type": "code",
   "execution_count": 66,
   "id": "f8a2c914",
   "metadata": {},
   "outputs": [],
   "source": [
    "H2Oin.add_metabolites({H2O:-1 })"
   ]
  },
  {
   "cell_type": "code",
   "execution_count": 67,
   "id": "34b6d4a5",
   "metadata": {},
   "outputs": [],
   "source": [
    "model.add_reactions([GLUin,HK,PGI,PFK,TPI,ALD,GAPDH,PGK,PGLM,ENO,PK,APK,LDH,LACin,PYRin,ATPin,NADHin,AMPin,AMP_R,Hin,H2Oin])"
   ]
  },
  {
   "cell_type": "code",
   "execution_count": 68,
   "id": "b98778a1",
   "metadata": {},
   "outputs": [],
   "source": [
    "model.objective = PK"
   ]
  },
  {
   "cell_type": "code",
   "execution_count": 69,
   "id": "13330dda",
   "metadata": {
    "scrolled": true
   },
   "outputs": [
    {
     "data": {
      "text/html": [
       "\n",
       "        <table>\n",
       "            <tr>\n",
       "                <td><strong>Name</strong></td>\n",
       "                <td>pathway</td>\n",
       "            </tr><tr>\n",
       "                <td><strong>Memory address</strong></td>\n",
       "                <td>0x020a726dbeb0</td>\n",
       "            </tr><tr>\n",
       "                <td><strong>Number of metabolites</strong></td>\n",
       "                <td>20</td>\n",
       "            </tr><tr>\n",
       "                <td><strong>Number of reactions</strong></td>\n",
       "                <td>21</td>\n",
       "            </tr><tr>\n",
       "                <td><strong>Number of groups</strong></td>\n",
       "                <td>0</td>\n",
       "            </tr><tr>\n",
       "                <td><strong>Objective expression</strong></td>\n",
       "                <td>1.0*PK - 1.0*PK_reverse_d71bd</td>\n",
       "            </tr><tr>\n",
       "                <td><strong>Compartments</strong></td>\n",
       "                <td>c</td>\n",
       "            </tr>\n",
       "          </table>"
      ],
      "text/plain": [
       "<Model pathway at 0x20a726dbeb0>"
      ]
     },
     "execution_count": 69,
     "metadata": {},
     "output_type": "execute_result"
    }
   ],
   "source": [
    "\n",
    "model"
   ]
  },
  {
   "cell_type": "code",
   "execution_count": 70,
   "id": "e0eb1eeb",
   "metadata": {},
   "outputs": [
    {
     "data": {
      "text/html": [
       "<strong><em>Optimal</em> solution with objective value 2.000</strong><br><div>\n",
       "<style scoped>\n",
       "    .dataframe tbody tr th:only-of-type {\n",
       "        vertical-align: middle;\n",
       "    }\n",
       "\n",
       "    .dataframe tbody tr th {\n",
       "        vertical-align: top;\n",
       "    }\n",
       "\n",
       "    .dataframe thead th {\n",
       "        text-align: right;\n",
       "    }\n",
       "</style>\n",
       "<table border=\"1\" class=\"dataframe\">\n",
       "  <thead>\n",
       "    <tr style=\"text-align: right;\">\n",
       "      <th></th>\n",
       "      <th>fluxes</th>\n",
       "      <th>reduced_costs</th>\n",
       "    </tr>\n",
       "  </thead>\n",
       "  <tbody>\n",
       "    <tr>\n",
       "      <th>GLUin</th>\n",
       "      <td>1.0</td>\n",
       "      <td>4.0</td>\n",
       "    </tr>\n",
       "    <tr>\n",
       "      <th>HK</th>\n",
       "      <td>1.0</td>\n",
       "      <td>0.0</td>\n",
       "    </tr>\n",
       "    <tr>\n",
       "      <th>PGI</th>\n",
       "      <td>1.0</td>\n",
       "      <td>0.0</td>\n",
       "    </tr>\n",
       "    <tr>\n",
       "      <th>PFK</th>\n",
       "      <td>1.0</td>\n",
       "      <td>0.0</td>\n",
       "    </tr>\n",
       "    <tr>\n",
       "      <th>TPI</th>\n",
       "      <td>1.0</td>\n",
       "      <td>0.0</td>\n",
       "    </tr>\n",
       "    <tr>\n",
       "      <th>...</th>\n",
       "      <td>...</td>\n",
       "      <td>...</td>\n",
       "    </tr>\n",
       "    <tr>\n",
       "      <th>NADHin</th>\n",
       "      <td>2.0</td>\n",
       "      <td>0.0</td>\n",
       "    </tr>\n",
       "    <tr>\n",
       "      <th>AMPin</th>\n",
       "      <td>1.0</td>\n",
       "      <td>0.0</td>\n",
       "    </tr>\n",
       "    <tr>\n",
       "      <th>AMP_R</th>\n",
       "      <td>1.0</td>\n",
       "      <td>0.0</td>\n",
       "    </tr>\n",
       "    <tr>\n",
       "      <th>Hin</th>\n",
       "      <td>6.0</td>\n",
       "      <td>0.0</td>\n",
       "    </tr>\n",
       "    <tr>\n",
       "      <th>H2Oin</th>\n",
       "      <td>0.0</td>\n",
       "      <td>0.0</td>\n",
       "    </tr>\n",
       "  </tbody>\n",
       "</table>\n",
       "<p>21 rows × 2 columns</p>\n",
       "</div>"
      ],
      "text/plain": [
       "<Solution 2.000 at 0x20a728a0c70>"
      ]
     },
     "execution_count": 70,
     "metadata": {},
     "output_type": "execute_result"
    }
   ],
   "source": [
    "model.optimize()"
   ]
  },
  {
   "cell_type": "code",
   "execution_count": 71,
   "id": "fcac783d",
   "metadata": {},
   "outputs": [
    {
     "data": {
      "text/html": [
       "<h3>Objective</h3><p>1.0 PK = 2.0</p><h4>Uptake</h4><table border=\"1\" class=\"dataframe\">\n",
       "  <thead>\n",
       "    <tr style=\"text-align: right;\">\n",
       "      <th>Metabolite</th>\n",
       "      <th>Reaction</th>\n",
       "      <th>Flux</th>\n",
       "      <th>C-Number</th>\n",
       "      <th>C-Flux</th>\n",
       "    </tr>\n",
       "  </thead>\n",
       "  <tbody>\n",
       "    <tr>\n",
       "      <td>AMP</td>\n",
       "      <td>AMPin</td>\n",
       "      <td>1</td>\n",
       "      <td>0</td>\n",
       "      <td>0.00%</td>\n",
       "    </tr>\n",
       "    <tr>\n",
       "      <td>Gluc</td>\n",
       "      <td>GLUin</td>\n",
       "      <td>1</td>\n",
       "      <td>6</td>\n",
       "      <td>100.00%</td>\n",
       "    </tr>\n",
       "  </tbody>\n",
       "</table><h4>Secretion</h4><table border=\"1\" class=\"dataframe\">\n",
       "  <thead>\n",
       "    <tr style=\"text-align: right;\">\n",
       "      <th>Metabolite</th>\n",
       "      <th>Reaction</th>\n",
       "      <th>Flux</th>\n",
       "      <th>C-Number</th>\n",
       "      <th>C-Flux</th>\n",
       "    </tr>\n",
       "  </thead>\n",
       "  <tbody>\n",
       "    <tr>\n",
       "      <td>AMP</td>\n",
       "      <td>AMP_R</td>\n",
       "      <td>-1</td>\n",
       "      <td>0</td>\n",
       "      <td>0.00%</td>\n",
       "    </tr>\n",
       "    <tr>\n",
       "      <td>H</td>\n",
       "      <td>Hin</td>\n",
       "      <td>-6</td>\n",
       "      <td>0</td>\n",
       "      <td>0.00%</td>\n",
       "    </tr>\n",
       "    <tr>\n",
       "      <td>PYR</td>\n",
       "      <td>PYRin</td>\n",
       "      <td>-2</td>\n",
       "      <td>0</td>\n",
       "      <td>0.00%</td>\n",
       "    </tr>\n",
       "  </tbody>\n",
       "</table>"
      ],
      "text/plain": [
       "<cobra.summary.model_summary.ModelSummary at 0x20a728ca220>"
      ]
     },
     "execution_count": 71,
     "metadata": {},
     "output_type": "execute_result"
    }
   ],
   "source": [
    "model.summary()"
   ]
  },
  {
   "cell_type": "code",
   "execution_count": null,
   "id": "2a61377b",
   "metadata": {},
   "outputs": [],
   "source": []
  },
  {
   "cell_type": "code",
   "execution_count": null,
   "id": "331c7c77",
   "metadata": {},
   "outputs": [],
   "source": []
  },
  {
   "cell_type": "code",
   "execution_count": null,
   "id": "4689adb0",
   "metadata": {},
   "outputs": [],
   "source": []
  },
  {
   "cell_type": "code",
   "execution_count": null,
   "id": "8d2b60d3",
   "metadata": {},
   "outputs": [],
   "source": []
  },
  {
   "cell_type": "code",
   "execution_count": null,
   "id": "7511b640",
   "metadata": {},
   "outputs": [],
   "source": []
  }
 ],
 "metadata": {
  "kernelspec": {
   "display_name": "Python 3 (ipykernel)",
   "language": "python",
   "name": "python3"
  },
  "language_info": {
   "codemirror_mode": {
    "name": "ipython",
    "version": 3
   },
   "file_extension": ".py",
   "mimetype": "text/x-python",
   "name": "python",
   "nbconvert_exporter": "python",
   "pygments_lexer": "ipython3",
   "version": "3.9.7"
  }
 },
 "nbformat": 4,
 "nbformat_minor": 5
}
